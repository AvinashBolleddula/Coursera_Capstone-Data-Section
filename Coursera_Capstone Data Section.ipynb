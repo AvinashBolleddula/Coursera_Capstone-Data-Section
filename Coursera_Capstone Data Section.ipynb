{
    "cells": [
        {
            "cell_type": "markdown",
            "metadata": {
                "collapsed": true
            },
            "source": "# DATA SECTION"
        },
        {
            "cell_type": "markdown",
            "metadata": {},
            "source": "1. My predictor or target variable will be 'SEVERITYCODE' because it is used to measure the severity of an accident. \n1.'SEVERITYCODE' Attribute has class 1 and class 2 within the dataset, where class 1 means property damage and class 2 means injury. \n1. Attributes used to weigh the severity of an accident are 'WEATHER', 'ROADCOND' and 'LIGHTCOND'.\n1. As the above attributes are object type, I will use label encoding to convert them to numeric types so that the data will easy for modeling        and predicting purposes.\n1. As data was unbalanced , I will use downssampling to balance the data.\n1. I will normalize the data to zero mean and unit variance for better accuracy.\n1. At the same time I will replace Missing values in the dataset with their respective modes for the object type attributes."
        },
        {
            "cell_type": "markdown",
            "metadata": {},
            "source": ""
        }
    ],
    "metadata": {
        "kernelspec": {
            "display_name": "Python 3.6",
            "language": "python",
            "name": "python3"
        },
        "language_info": {
            "codemirror_mode": {
                "name": "ipython",
                "version": 3
            },
            "file_extension": ".py",
            "mimetype": "text/x-python",
            "name": "python",
            "nbconvert_exporter": "python",
            "pygments_lexer": "ipython3",
            "version": "3.6.9"
        }
    },
    "nbformat": 4,
    "nbformat_minor": 1
}